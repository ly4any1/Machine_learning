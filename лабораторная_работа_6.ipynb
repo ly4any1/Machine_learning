{
 "cells": [
  {
   "cell_type": "code",
   "execution_count": 15,
   "metadata": {},
   "outputs": [
    {
     "name": "stdout",
     "output_type": "stream",
     "text": [
      "0.9298245614035088\n",
      "0.9375\n",
      "0.9545454545454546\n",
      "0.9459459459459459\n",
      "1.0\n",
      "1.0\n",
      "1.0\n",
      "1.0\n"
     ]
    }
   ],
   "source": [
    "import sklearn\n",
    "from sklearn import datasets\n",
    "from sklearn.model_selection import train_test_split\n",
    "from sklearn import tree\n",
    "from sklearn.metrics import accuracy_score, recall_score, precision_score, f1_score\n",
    "\n",
    "breast_cancer=datasets.load_breast_cancer()\n",
    "\n",
    "train_data,test_data,train_target,test_target=train_test_split(breast_cancer.data,breast_cancer.target,test_size=0.3, random_state=5)\n",
    "clf = tree.DecisionTreeClassifier()\n",
    "clf.fit(train_data,train_target)\n",
    "\n",
    "import graphviz \n",
    "dot_data = tree.export_graphviz(clf, out_file=None,\n",
    "                                feature_names=breast_cancer.feature_names,\n",
    "                                class_names=breast_cancer.target_names,\n",
    "                                filled=True, rounded=True,\n",
    "                                special_characters=True)  \n",
    "graph = graphviz.Source(dot_data)  \n",
    "graph.render(\"breast_cancer\")\n",
    "\n",
    "print(accuracy_score(test_target,clf.predict(test_data)))\n",
    "print(precision_score(test_target,clf.predict(test_data)))\n",
    "print(recall_score(test_target,clf.predict(test_data)))\n",
    "print(f1_score(test_target,clf.predict(test_data)))\n",
    "print(accuracy_score(train_target,clf.predict(train_data)))\n",
    "print(precision_score(train_target,clf.predict(train_data)))\n",
    "print(recall_score(train_target,clf.predict(train_data)))\n",
    "print(f1_score(train_target,clf.predict(train_data)))"
   ]
  },
  {
   "cell_type": "code",
   "execution_count": null,
   "metadata": {},
   "outputs": [],
   "source": []
  }
 ],
 "metadata": {
  "kernelspec": {
   "display_name": "Python 3",
   "language": "python",
   "name": "python3"
  },
  "language_info": {
   "codemirror_mode": {
    "name": "ipython",
    "version": 3
   },
   "file_extension": ".py",
   "mimetype": "text/x-python",
   "name": "python",
   "nbconvert_exporter": "python",
   "pygments_lexer": "ipython3",
   "version": "3.7.3"
  }
 },
 "nbformat": 4,
 "nbformat_minor": 2
}
